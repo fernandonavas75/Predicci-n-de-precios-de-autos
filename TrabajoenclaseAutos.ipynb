{
  "nbformat": 4,
  "nbformat_minor": 0,
  "metadata": {
    "colab": {
      "provenance": [],
      "authorship_tag": "ABX9TyPL7941yOui/fNpSjiZgJrH",
      "include_colab_link": true
    },
    "kernelspec": {
      "name": "python3",
      "display_name": "Python 3"
    },
    "language_info": {
      "name": "python"
    }
  },
  "cells": [
    {
      "cell_type": "markdown",
      "metadata": {
        "id": "view-in-github",
        "colab_type": "text"
      },
      "source": [
        "<a href=\"https://colab.research.google.com/github/fernandonavas75/Predicci-n-de-precios-de-autos/blob/main/TrabajoenclaseAutos.ipynb\" target=\"_parent\"><img src=\"https://colab.research.google.com/assets/colab-badge.svg\" alt=\"Open In Colab\"/></a>"
      ]
    },
    {
      "cell_type": "markdown",
      "source": [
        "Cierre: viernes, 15 de noviembre de 2024, 11:00\n",
        "\n",
        "El dataset que se adjunta es un dataset que tiene el precio de autos usados de acuerdo a varias características de los autos. El dataset ya se encuentra mayormente procesado, no debe hacer ningún pre-procesamiento.\n",
        "\n",
        "Cree una jupyter notebook, coloque sus nombres completos y fecha, al inicio de la misma, y complete las siguientes tareas:\n",
        "\n",
        "1. Elimine las dos primeras columnas del dataset que no tienen información relevante para el problema.\n",
        "2. Convierta todas las variables categóricas del dataset a numéricas con One-hot encoding.\n",
        "3. Genere un modelo de regresión multivariable para predecir el precio de un automovil ('price'), usando todas las variables dependientes.\n",
        "4. Calcule el error del modelo con las métricas MSE y R^2.\n",
        "5. Genere un modelo de regresión polinomial de grado 2 para predecir el precio de un automovil ('price'), usando todas las variables dependientes.\n",
        "6. Calcule el error del modelo con las métricas MSE y R^2.\n",
        "7. Concluya cuál de los dos modelos es mejor y por qué.\n",
        "\n",
        "Guarde su notebook y subala al EVA como archivo jupyter notebook sin comprimir.\n",
        "\n",
        "Rúbrica:\n",
        "\n",
        "1. Las tareas retrasadas tienen un 20% de penalización por día o fracción.\n",
        "La notebook no debe contener errores.\n",
        "2. Todo su código debe estar bien explicado o comentado en la notebook."
      ],
      "metadata": {
        "id": "XO0Nq-B_PFbM"
      }
    },
    {
      "cell_type": "code",
      "source": [
        "# Importar las bibliotecas necesarias\n",
        "import pandas as pd\n",
        "from sklearn.model_selection import train_test_split\n",
        "from sklearn.linear_model import LinearRegression\n",
        "from sklearn.preprocessing import PolynomialFeatures\n",
        "from sklearn.metrics import mean_squared_error, r2_score\n",
        "\n",
        "# Cargar el dataset\n",
        "file_path = '/content/sample_data/autos_dataset.csv'\n",
        "dataset = pd.read_csv(file_path)\n",
        "\n",
        "# Eliminar las dos primeras columnas irrelevantes\n",
        "dataset_cleaned = dataset.iloc[:, 2:]\n",
        "\n",
        "# Convertir variables categóricas a numéricas con One-hot encoding\n",
        "categorical_columns = dataset_cleaned.select_dtypes(include=['object']).columns\n",
        "dataset_encoded = pd.get_dummies(dataset_cleaned, columns=categorical_columns, drop_first=True)\n",
        "\n",
        "# Imputar valores faltantes con la media\n",
        "dataset_encoded.fillna(dataset_encoded.mean(), inplace=True)\n",
        "\n",
        "# Dividir las variables independientes (X) y dependiente (y)\n",
        "X = dataset_encoded.drop('price', axis=1)\n",
        "y = dataset_encoded['price']\n",
        "\n",
        "# Dividir los datos en conjunto de entrenamiento y prueba\n",
        "X_train, X_test, y_train, y_test = train_test_split(X, y, test_size=0.2, random_state=42)\n",
        "\n",
        "# Modelo de regresión lineal multivariable\n",
        "linear_model = LinearRegression()\n",
        "linear_model.fit(X_train, y_train)\n",
        "y_pred_linear = linear_model.predict(X_test)\n",
        "\n",
        "# Calcular métricas para el modelo lineal\n",
        "mse_linear = mean_squared_error(y_test, y_pred_linear)\n",
        "r2_linear = r2_score(y_test, y_pred_linear)\n",
        "\n",
        "# Modelo de regresión polinomial de grado 2\n",
        "poly = PolynomialFeatures(degree=2)\n",
        "X_poly = poly.fit_transform(X)\n",
        "X_train_poly, X_test_poly, y_train_poly, y_test_poly = train_test_split(X_poly, y, test_size=0.2, random_state=42)\n",
        "\n",
        "poly_model = LinearRegression()\n",
        "poly_model.fit(X_train_poly, y_train_poly)\n",
        "y_pred_poly = poly_model.predict(X_test_poly)\n",
        "\n",
        "# Calcular métricas para el modelo polinomial\n",
        "mse_poly = mean_squared_error(y_test_poly, y_pred_poly)\n",
        "r2_poly = r2_score(y_test_poly, y_pred_poly)\n",
        "\n",
        "# Resultados\n",
        "results_cleaned = {\n",
        "    \"Linear Regression\": {\"MSE\": mse_linear, \"R^2\": r2_linear},\n",
        "    \"Polynomial Regression (Degree 2)\": {\"MSE\": mse_poly, \"R^2\": r2_poly}\n",
        "}\n",
        "\n",
        "print(results_cleaned)\n"
      ],
      "metadata": {
        "colab": {
          "base_uri": "https://localhost:8080/"
        },
        "id": "377XJbCfdBOz",
        "outputId": "b1dbef19-c08e-44ba-daaf-cec9a5472d1a"
      },
      "execution_count": 32,
      "outputs": [
        {
          "output_type": "stream",
          "name": "stdout",
          "text": [
            "{'Linear Regression': {'MSE': 8453911.56771849, 'R^2': 0.9309020470690726}, 'Polynomial Regression (Degree 2)': {'MSE': 1.610702411973161e+18, 'R^2': -13165058393.180592}}\n"
          ]
        }
      ]
    }
  ]
}